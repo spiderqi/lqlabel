{
 "cells": [
  {
   "cell_type": "markdown",
   "metadata": {},
   "source": [
    "# import module and setting parameters"
   ]
  },
  {
   "cell_type": "code",
   "execution_count": 2,
   "metadata": {},
   "outputs": [],
   "source": [
    "import numpy as np\n",
    "from math import e,log\n",
    "from functools import reduce,partial\n",
    "n,beta=200,0.5"
   ]
  },
  {
   "cell_type": "markdown",
   "metadata": {},
   "source": [
    "# Introduction\n",
    "In the present paper, we study semiparametric methods for analysing current status data under the additive hazards regression model. This model specifies that the hazard function of T at time t, given the history of a p-dimensional covariate process Z(.) up to t, has the form \n",
    "$$\\lambda(t|\\textbf(Z))=\\lambda_{0}(t)+\\beta_{0}^{'}Z(t)$$\n",
    "where $\\lambda_{0}(t)$ is an unspecified baseline hazard function, and f3o is a p-vector of unknown regression parameter"
   ]
  },
  {
   "cell_type": "markdown",
   "metadata": {},
   "source": [
    "In inference procedures section,  assume that $C$ is independent of $T$ and $Z$. Let$\\{T_{i},C_{i},Z_{i}\\}(i=1,...,n)$  be independent replicates of $\\{T_{i},C_{i},Z_{i}\\}$The observations consist of $C_{i},\\delta_{i}=I(C_{i}\\leq T_{i})$ and $Z_{i}(t)(t \\leq C_{i})$"
   ]
  },
  {
   "cell_type": "markdown",
   "metadata": {},
   "source": [
    "# simulation\n",
    "In paper , the failure times were generated from model:$$\\lambda(t|\\textbf(Z))=\\lambda_{0}(t)+\\beta_{0}^{'}Z(t)$$\n",
    "with $\\lambda_{0}(.)=1,\\beta_{0}=0.5$,and $Z$ being uniform random variable on $(0,\\sqrt{12})$\n",
    "\n",
    "The monitoring times were generate from the exponential distribution with hazard rate $\\lambda_{c,0},e^{\\gamma_{0}Z}$, where\n",
    "$\\lambda_{c,0}=0.5,1.0,1.5$\n",
    "## generate data\n",
    "step1 generate data C from exponential(1) ,size=n\n",
    "\n",
    "step2 generate data Z from uniform(0,$\\sqrt{12}$) ,size=n\n",
    "\n",
    "step3 $Z_{i}^{*}(t)=\\int_{0}^{t}Z_{i}(s)ds$\n",
    "\n",
    "step4 generate data T from exponentiao($\\frac{1}{1+\\beta*Z_{i}}$)\n",
    "\n",
    "step5 calculate $\\delta$ by $T_{i},C_{i}$"
   ]
  },
  {
   "cell_type": "code",
   "execution_count": 3,
   "metadata": {},
   "outputs": [],
   "source": [
    "c=np.random.exponential(1,(n,1))\n",
    "z=np.random.uniform(0,2*3**(1/2),(n,1))\n",
    "T=list(map(lambda i:np.random.exponential(1/(1+beta*z[i]))[0],range(n)))\n",
    "delta=np.array([1 if c[j,0]<=T[j] else 0 for j  in range(n)])\n",
    "delta.shape=n,1\n",
    "zz=c*z\n",
    "cz=c.T*z"
   ]
  },
  {
   "cell_type": "markdown",
   "metadata": {},
   "source": [
    "# Counting process matrix and Likelihood\n",
    "Lilihood funciton is:\n",
    "$$L(\\beta)=\\prod_{i=1}^{n}[\\frac{e^{-\\beta^{'}Z^{*}(t)}}{\\sum Y_{j}(t)e^{-\\beta^{'}Z^{*}(t)}}]^{\\delta_{i}}$$\n",
    "score function is:\n",
    "$$U(\\beta)=\\sum_{i=1}^{n}(Z_{i}-\\frac{\\sum_{j=1}^{n}Y_{j}(C_{i})e^{\\beta^{'}Z_{j}(C_{i})}Z_{j}(C_{i})}{\\sum_{j=1}^{n}Y_{j}(C_{i})e^{\\beta^{'}Z_{j}(C_{i})}})$$\n",
    "Transform it into a matrix operation is:\n",
    "$$\\log(L(\\beta))=\\delta(-\\beta^{'}Z^{*}-diag(Ye^{-\\beta^{'}Z^{*}}))$$\n",
    "$$U(\\beta)=\\delta (Z-diag(\\frac{Ye^{-\\beta^{'}Z^{*}}Z^{*}}{Ye^{-\\beta^{'}Z^{*}}})$$\n",
    "\n",
    "Then,by minimize$\\log(L(\\beta))$ or solve $U(\\beta)=0$,we can also get the estimate of $\\beta$\n",
    "\n",
    "Before estimate $\\beta$, we should first get the form for $Y,Z^{*}$"
   ]
  },
  {
   "cell_type": "code",
   "execution_count": 3,
   "metadata": {},
   "outputs": [],
   "source": [
    "def eij(c):\n",
    "    exp=np.zeros((n,n))\n",
    "    for i in range(n):\n",
    "        for j in range(n):\n",
    "            if c[j]>=c[i]:\n",
    "                exp[i,j]=1\n",
    "    return exp\n",
    "\n",
    "def f(x,zz,exp,cz,n):\n",
    "    f1=-x*zz\n",
    "    f2=exp @ np.array(list(map(lambda i:e**i,-x*cz)))\n",
    "    try:\n",
    "        f3=f2 @ (-cz)@np.linalg.inv(f2)\n",
    "    except:\n",
    "        f3=np.zeros((n,n))\n",
    "    z1,z2=f2.diagonal(),f3.diagonal()\n",
    "    z1.shape=n,1\n",
    "    z2.shape=n,1\n",
    "    return f1-z1,zz-z2"
   ]
  },
  {
   "cell_type": "markdown",
   "metadata": {},
   "source": [
    "Then I'll use Gradient descent to calculate the estimate of $\\beta$\n"
   ]
  },
  {
   "cell_type": "code",
   "execution_count": 5,
   "metadata": {},
   "outputs": [],
   "source": [
    "def simulation(n,beta,gamma,lambdac):\n",
    "    z=np.random.uniform(0,12**(1/2),(n,1))\n",
    "    c=list(map(lambda i:np.random.exponential(lambdac*e**(gamma*z[i]))[0],range(n)))\n",
    "    T=list(map(lambda i:np.random.exponential(1/(1+beta*z[i]))[0],range(n)))\n",
    "    delta=np.array([1 if c[j]<=T[j] else 0 for j  in range(n)])\n",
    "    delta.shape=n,1\n",
    "    exp=eij(c)\n",
    "    \n",
    "    zz=np.array([round(c[i]*z[i,0],4) for i in range(n)])\n",
    "    zz.shape=n,1\n",
    "    cz=c*z\n",
    "    \n",
    "    beta0,k=np.random.uniform(0,1),1\n",
    "    fn,grad=-delta.T@f(beta0,zz,exp,cz,n)\n",
    "    while np.abs(fn/grad)>=0.001 and k<=1000:\n",
    "        beta0 -=fn/grad\n",
    "        fn,grad=-delta.T@f(beta0,zz,exp,cz,n)\n",
    "        k+=1\n",
    "    return beta0\n"
   ]
  },
  {
   "cell_type": "code",
   "execution_count": null,
   "metadata": {},
   "outputs": [],
   "source": []
  }
 ],
 "metadata": {
  "kernelspec": {
   "display_name": "Python 3",
   "language": "python",
   "name": "python3"
  },
  "language_info": {
   "codemirror_mode": {
    "name": "ipython",
    "version": 3
   },
   "file_extension": ".py",
   "mimetype": "text/x-python",
   "name": "python",
   "nbconvert_exporter": "python",
   "pygments_lexer": "ipython3",
   "version": "3.7.3"
  }
 },
 "nbformat": 4,
 "nbformat_minor": 2
}
